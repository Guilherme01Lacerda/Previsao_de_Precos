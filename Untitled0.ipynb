{
  "nbformat": 4,
  "nbformat_minor": 0,
  "metadata": {
    "colab": {
      "provenance": [],
      "authorship_tag": "ABX9TyOv7nEWLjf33J3kfo406kzb",
      "include_colab_link": true
    },
    "kernelspec": {
      "name": "python3",
      "display_name": "Python 3"
    },
    "language_info": {
      "name": "python"
    }
  },
  "cells": [
    {
      "cell_type": "markdown",
      "metadata": {
        "id": "view-in-github",
        "colab_type": "text"
      },
      "source": [
        "<a href=\"https://colab.research.google.com/github/Guilherme01Lacerda/Previsao_de_Precos/blob/main/Untitled0.ipynb\" target=\"_parent\"><img src=\"https://colab.research.google.com/assets/colab-badge.svg\" alt=\"Open In Colab\"/></a>"
      ]
    },
    {
      "cell_type": "markdown",
      "source": [
        "Importar Bibliotecas e Bases de Dados"
      ],
      "metadata": {
        "id": "le46JI7wytVC"
      }
    },
    {
      "cell_type": "code",
      "source": [
        "import pandas as pd\n",
        "import pathlib\n",
        "import numpy as np\n",
        "import seaborn as sns\n",
        "import matplotlib.pyplot as plt\n",
        "import plotly.express as px\n",
        "from sklearn.metrics import r2_score, mean_squared_error\n",
        "from sklearn.linear_model import LinearRegression\n",
        "from sklearn.ensemble import RandomForestRegressor, ExtraTreesRegressor\n",
        "from sklearn.model_selection import train_test_split"
      ],
      "metadata": {
        "id": "C7PNaW7myxlM"
      },
      "execution_count": null,
      "outputs": []
    },
    {
      "cell_type": "code",
      "source": [
        "meses = {'jan': 1, 'fev': 2, 'mar': 3, 'abr': 4, 'mai': 5, 'jun': 6, 'jul': 7, 'ago': 8, 'set': 9, 'out':10, 'nov': 11, 'dez': 12}\n",
        "\n",
        "caminho_bases = pathlib.Path('dataset')\n",
        "\n",
        "bases = []\n",
        "\n",
        "for arquivo in caminho_bases.iterdir():\n",
        "    nome_mes = arquivo.name[:3]\n",
        "    mes = meses[nome_mes]\n",
        "    ano = arquivo.name[-8:]\n",
        "    ano = int(ano.replace('.csv', ''))\n",
        "\n",
        "    df = pd.read_csv(caminho_bases / arquivo.name)\n",
        "    df['ano'] = ano\n",
        "    df['mes'] = mes\n",
        "    bases.append(df)\n",
        "\n",
        "base_airbnb = pd.concat(bases)\n",
        "display(base_airbnb)"
      ],
      "metadata": {
        "id": "RSBKYbzSysIF"
      },
      "execution_count": null,
      "outputs": []
    },
    {
      "cell_type": "markdown",
      "source": [
        "Depois da análise qualitativa das colunas, levando em conta os critérios explicados acima, ficamos com as seguintes colunas:"
      ],
      "metadata": {
        "id": "-MXHU3CHzRXL"
      }
    },
    {
      "cell_type": "code",
      "source": [
        "colunas = ['host_is_superhost','host_listings_count','latitude','longitude','property_type','room_type','accommodates','bathrooms','bedrooms','beds','bed_type','price','security_deposit','cleaning_fee','guests_included','extra_people','minimum_nights','maximum_nights','number_of_reviews','review_scores_rating','review_scores_accuracy','review_scores_cleanliness','review_scores_checkin','review_scores_communication','review_scores_location','review_scores_value','instant_bookable','cancellation_policy','ano','mes']\n",
        "\n",
        "base_airbnb = base_airbnb.loc[:, colunas]\n",
        "display(base_airbnb)"
      ],
      "metadata": {
        "id": "zcRD68s9zTCQ"
      },
      "execution_count": null,
      "outputs": []
    },
    {
      "cell_type": "markdown",
      "source": [
        "Tratar Valores Faltando"
      ],
      "metadata": {
        "id": "PNQ63hsszcHX"
      }
    },
    {
      "cell_type": "code",
      "source": [
        "for coluna in base_airbnb:\n",
        "    if base_airbnb[coluna].isnull().sum() > 300000:\n",
        "        base_airbnb = base_airbnb.drop(coluna, axis=1)\n",
        "print(base_airbnb.isnull().sum())"
      ],
      "metadata": {
        "id": "XF50iH8tzdHI"
      },
      "execution_count": null,
      "outputs": []
    },
    {
      "cell_type": "code",
      "source": [
        "base_airbnb = base_airbnb.dropna()\n",
        "\n",
        "print(base_airbnb.shape)\n",
        "print(base_airbnb.isnull().sum())"
      ],
      "metadata": {
        "id": "P8pr26CLzh_J"
      },
      "execution_count": null,
      "outputs": []
    },
    {
      "cell_type": "markdown",
      "source": [
        "Verificar Tipos de Dados em cada coluna"
      ],
      "metadata": {
        "id": "tT2dA31jzwEn"
      }
    },
    {
      "cell_type": "code",
      "source": [
        "print(base_airbnb.dtypes)\n",
        "print('-'*70)\n",
        "print(base_airbnb.iloc[0])"
      ],
      "metadata": {
        "id": "ZQimQxnBzxAr"
      },
      "execution_count": null,
      "outputs": []
    },
    {
      "cell_type": "code",
      "source": [
        "#price\n",
        "base_airbnb['price'] = base_airbnb['price'].str.replace('$', '')\n",
        "base_airbnb['price'] = base_airbnb['price'].str.replace(',', '')\n",
        "base_airbnb['price'] = base_airbnb['price'].astype(np.float32, copy=False)\n",
        "#extra people\n",
        "base_airbnb['extra_people'] = base_airbnb['extra_people'].str.replace('$', '')\n",
        "base_airbnb['extra_people'] = base_airbnb['extra_people'].str.replace(',', '')\n",
        "base_airbnb['extra_people'] = base_airbnb['extra_people'].astype(np.float32, copy=False)\n",
        "#verificando os tipos\n",
        "print(base_airbnb.dtypes)"
      ],
      "metadata": {
        "id": "8MVc2FzGz1FZ"
      },
      "execution_count": null,
      "outputs": []
    },
    {
      "cell_type": "markdown",
      "source": [
        "Análise Exploratória e Tratar Outliers"
      ],
      "metadata": {
        "id": "Pb2K5duez9mi"
      }
    },
    {
      "cell_type": "code",
      "source": [
        "plt.figure(figsize=(15, 10))\n",
        "sns.heatmap(base_airbnb.corr(numeric_only=True), annot=True, cmap='Greens')"
      ],
      "metadata": {
        "id": "R_cR-UPOz-zv"
      },
      "execution_count": null,
      "outputs": []
    },
    {
      "cell_type": "markdown",
      "source": [
        "Definição de Funções para Análise de Outliers"
      ],
      "metadata": {
        "id": "ZSV1BOzn00n6"
      }
    },
    {
      "cell_type": "code",
      "source": [
        "def limites(coluna):\n",
        "    q1 = coluna.quantile(0.25)\n",
        "    q3 = coluna.quantile(0.75)\n",
        "    amplitude = q3 - q1\n",
        "    return q1 - 1.5 * amplitude, q3 + 1.5 * amplitude\n",
        "def excluir_outliers(df, nome_coluna):\n",
        "    qtde_linhas = df.shape[0]\n",
        "    lim_inf, lim_sup = limites(df[nome_coluna])\n",
        "    df = df.loc[(df[nome_coluna] >= lim_inf) & (df[nome_coluna] <= lim_sup), :]\n",
        "    linhas_removidas = qtde_linhas - df.shape[0]\n",
        "    return df, linhas_removidas"
      ],
      "metadata": {
        "id": "Qvbxo2C8014P"
      },
      "execution_count": null,
      "outputs": []
    },
    {
      "cell_type": "code",
      "source": [
        "def diagrama_caixa(coluna):\n",
        "    fig, (ax1, ax2) = plt.subplots(1, 2)\n",
        "    fig.set_size_inches(15, 5)\n",
        "    sns.boxplot(x=coluna, ax=ax1)\n",
        "    ax2.set_xlim(limites(coluna))\n",
        "    sns.boxplot(x=coluna, ax=ax2)\n",
        "\n",
        "def histograma(coluna):\n",
        "    plt.figure(figsize=(15, 5))\n",
        "    sns.histplot(coluna, element='bars')\n",
        "\n",
        "def gráfico_barra(coluna):\n",
        "    plt.figure(figsize=(15, 5))\n",
        "    ax = sns.barplot(x=coluna.value_counts().index, y=coluna.value_counts())\n",
        "    ax.set_xlim(limites(coluna))"
      ],
      "metadata": {
        "id": "Axvs3-CC06u5"
      },
      "execution_count": null,
      "outputs": []
    },
    {
      "cell_type": "markdown",
      "source": [
        "price"
      ],
      "metadata": {
        "id": "5-UpFdIe1EpZ"
      }
    },
    {
      "cell_type": "code",
      "source": [
        "diagrama_caixa(base_airbnb['price'])\n",
        "histograma(base_airbnb['price'])"
      ],
      "metadata": {
        "id": "i47YkEaR1Fgj"
      },
      "execution_count": null,
      "outputs": []
    },
    {
      "cell_type": "code",
      "source": [
        "base_airbnb, linhas_removidas = excluir_outliers(base_airbnb, 'price')\n",
        "print('{} linhas removidas'.format(linhas_removidas))"
      ],
      "metadata": {
        "id": "sZlPs1aE1NGc"
      },
      "execution_count": null,
      "outputs": []
    },
    {
      "cell_type": "code",
      "source": [
        "histograma(base_airbnb['price'])\n",
        "print(base_airbnb.shape)"
      ],
      "metadata": {
        "id": "ONgRwujI1QHD"
      },
      "execution_count": null,
      "outputs": []
    },
    {
      "cell_type": "markdown",
      "source": [
        "extra_people"
      ],
      "metadata": {
        "id": "dfz6auYl1Vvk"
      }
    },
    {
      "cell_type": "code",
      "source": [
        "histograma(base_airbnb['extra_people'])\n",
        "print(base_airbnb.shape)"
      ],
      "metadata": {
        "id": "bcb4mdZv1Xz9"
      },
      "execution_count": null,
      "outputs": []
    },
    {
      "cell_type": "code",
      "source": [
        "base_airbnb, linhas_removidas = excluir_outliers(base_airbnb, 'extra_people')\n",
        "print('{} linhas removidas'.format(linhas_removidas))"
      ],
      "metadata": {
        "id": "5hvj3qlT1diu"
      },
      "execution_count": null,
      "outputs": []
    },
    {
      "cell_type": "markdown",
      "source": [
        "host_listings_count"
      ],
      "metadata": {
        "id": "2BaV-vgD1f1m"
      }
    },
    {
      "cell_type": "code",
      "source": [
        "diagrama_caixa(base_airbnb['host_listings_count'])\n",
        "gráfico_barra(base_airbnb['host_listings_count'])"
      ],
      "metadata": {
        "id": "rcnNKsdm1jWe"
      },
      "execution_count": null,
      "outputs": []
    },
    {
      "cell_type": "code",
      "source": [
        "base_airbnb, linhas_removidas = excluir_outliers(base_airbnb, 'host_listings_count')\n",
        "print('{} linhas removidas'.format(linhas_removidas))"
      ],
      "metadata": {
        "id": "VbMqi4q81rZ9"
      },
      "execution_count": null,
      "outputs": []
    },
    {
      "cell_type": "markdown",
      "source": [
        "accommodates"
      ],
      "metadata": {
        "id": "q0qkbQZj1u5e"
      }
    },
    {
      "cell_type": "code",
      "source": [
        "diagrama_caixa(base_airbnb['accommodates'])\n",
        "gráfico_barra(base_airbnb['accommodates'])"
      ],
      "metadata": {
        "id": "WIHbweI81v04"
      },
      "execution_count": null,
      "outputs": []
    },
    {
      "cell_type": "code",
      "source": [
        "base_airbnb, linhas_removidas = excluir_outliers(base_airbnb, 'accommodates')\n",
        "print('{} linhas removidas'.format(linhas_removidas))"
      ],
      "metadata": {
        "id": "J8ub3kQR13_p"
      },
      "execution_count": null,
      "outputs": []
    },
    {
      "cell_type": "markdown",
      "source": [
        "bathrooms"
      ],
      "metadata": {
        "id": "v9gQQMzG18Wr"
      }
    },
    {
      "cell_type": "code",
      "source": [
        "diagrama_caixa(base_airbnb['bathrooms'])\n",
        "gráfico_barra(base_airbnb['bathrooms'])"
      ],
      "metadata": {
        "id": "HNeFPNrZ19QH"
      },
      "execution_count": null,
      "outputs": []
    },
    {
      "cell_type": "code",
      "source": [
        "base_airbnb, linhas_removidas = excluir_outliers(base_airbnb, 'bathrooms')\n",
        "print('{} linhas removidas'.format(linhas_removidas))"
      ],
      "metadata": {
        "id": "onGEQqEC1_3Y"
      },
      "execution_count": null,
      "outputs": []
    },
    {
      "cell_type": "markdown",
      "source": [
        "bedrooms"
      ],
      "metadata": {
        "id": "n1AthLG72ELM"
      }
    },
    {
      "cell_type": "code",
      "source": [
        "diagrama_caixa(base_airbnb['bedrooms'])\n",
        "gráfico_barra(base_airbnb['bedrooms'])"
      ],
      "metadata": {
        "id": "S3rJ3Hkp2JAS"
      },
      "execution_count": null,
      "outputs": []
    },
    {
      "cell_type": "code",
      "source": [
        "base_airbnb, linhas_removidas = excluir_outliers(base_airbnb, 'bedrooms')\n",
        "print('{} linhas removidas'.format(linhas_removidas))"
      ],
      "metadata": {
        "id": "S1k4yGrh2OLd"
      },
      "execution_count": null,
      "outputs": []
    },
    {
      "cell_type": "markdown",
      "source": [
        "beds"
      ],
      "metadata": {
        "id": "PIcJXXTZ2PKH"
      }
    },
    {
      "cell_type": "code",
      "source": [
        "diagrama_caixa(base_airbnb['beds'])\n",
        "gráfico_barra(base_airbnb['beds'])"
      ],
      "metadata": {
        "id": "gtiAbciL2VQD"
      },
      "execution_count": null,
      "outputs": []
    },
    {
      "cell_type": "code",
      "source": [
        "ase_airbnb, linhas_removidas = excluir_outliers(base_airbnb, 'beds')\n",
        "print('{} linhas removidas'.format(linhas_removidas))"
      ],
      "metadata": {
        "id": "it1UEu8n2YGD"
      },
      "execution_count": null,
      "outputs": []
    },
    {
      "cell_type": "markdown",
      "source": [
        "guests_included"
      ],
      "metadata": {
        "id": "-76QzZlx2est"
      }
    },
    {
      "cell_type": "code",
      "source": [
        "#gráfico_barra(base_airbnb['guests_included'])\n",
        "print(limites(base_airbnb['guests_included']))\n",
        "plt.figure(figsize=(15,5))\n",
        "sns.barplot(x=base_airbnb['guests_included'].value_counts().index, y=base_airbnb['guests_included'].value_counts())"
      ],
      "metadata": {
        "id": "w5Oevo0L2fl5"
      },
      "execution_count": null,
      "outputs": []
    },
    {
      "cell_type": "code",
      "source": [
        "base_airbnb = base_airbnb.drop('guests_included', axis=1)\n",
        "base_airbnb.shape"
      ],
      "metadata": {
        "id": "k_Z3cfay2m6G"
      },
      "execution_count": null,
      "outputs": []
    },
    {
      "cell_type": "markdown",
      "source": [
        "Minimum_nights"
      ],
      "metadata": {
        "id": "kvjKe9-m2nnm"
      }
    },
    {
      "cell_type": "code",
      "source": [
        "diagrama_caixa(base_airbnb['minimum_nights'])\n",
        "gráfico_barra(base_airbnb['minimum_nights'])"
      ],
      "metadata": {
        "id": "EhP-nK-d2rM4"
      },
      "execution_count": null,
      "outputs": []
    },
    {
      "cell_type": "code",
      "source": [
        "base_airbnb, linhas_removidas = excluir_outliers(base_airbnb, 'minimum_nights')\n",
        "print('{} linhas removidas'.format(linhas_removidas))"
      ],
      "metadata": {
        "id": "vWb5XHkU2t6R"
      },
      "execution_count": null,
      "outputs": []
    },
    {
      "cell_type": "markdown",
      "source": [
        "maximum_nights"
      ],
      "metadata": {
        "id": "ubyQ-yBD23jJ"
      }
    },
    {
      "cell_type": "code",
      "source": [
        "diagrama_caixa(base_airbnb['maximum_nights'])\n",
        "gráfico_barra(base_airbnb['maximum_nights'])"
      ],
      "metadata": {
        "id": "P_bz5Tw-24Md"
      },
      "execution_count": null,
      "outputs": []
    },
    {
      "cell_type": "code",
      "source": [
        "base_airbnb = base_airbnb.drop('maximum_nights', axis=1)\n",
        "base_airbnb.shape"
      ],
      "metadata": {
        "id": "7VkIM-Js263_"
      },
      "execution_count": null,
      "outputs": []
    },
    {
      "cell_type": "markdown",
      "source": [
        "number_of_reviews"
      ],
      "metadata": {
        "id": "VGszdjtZ3BCr"
      }
    },
    {
      "cell_type": "code",
      "source": [
        "diagrama_caixa(base_airbnb['number_of_reviews'])\n",
        "gráfico_barra(base_airbnb['number_of_reviews'])"
      ],
      "metadata": {
        "id": "qshUEUGv3B5h"
      },
      "execution_count": null,
      "outputs": []
    },
    {
      "cell_type": "code",
      "source": [
        "base_airbnb = base_airbnb.drop('number_of_reviews', axis=1)\n",
        "base_airbnb.shape"
      ],
      "metadata": {
        "id": "fGFvLEmM3Iux"
      },
      "execution_count": null,
      "outputs": []
    },
    {
      "cell_type": "markdown",
      "source": [
        "Tratamento de colunas de valores de texto"
      ],
      "metadata": {
        "id": "YZE1x7yS3MVF"
      }
    },
    {
      "cell_type": "markdown",
      "source": [
        "property_type"
      ],
      "metadata": {
        "id": "GMfwdcop3Rdn"
      }
    },
    {
      "cell_type": "code",
      "source": [
        "print(base_airbnb['property_type'].value_counts())\n",
        "\n",
        "plt.figure(figsize=(15, 5))\n",
        "sns.set_theme(style='whitegrid')\n",
        "gráfico = sns.countplot(x=base_airbnb['property_type'])\n",
        "gráfico.tick_params(axis='x', rotation=90)"
      ],
      "metadata": {
        "id": "Zkdd3UzI3Udh"
      },
      "execution_count": null,
      "outputs": []
    },
    {
      "cell_type": "code",
      "source": [
        "tabela_tipos_casa = base_airbnb['property_type'].value_counts()\n",
        "colunas_agrupar = []\n",
        "\n",
        "for tipo in tabela_tipos_casa.index:\n",
        "    if tabela_tipos_casa[tipo] < 2000:\n",
        "        colunas_agrupar.append(tipo)\n",
        "print(colunas_agrupar)\n",
        "\n",
        "for tipo in colunas_agrupar:\n",
        "    base_airbnb.loc[base_airbnb['property_type']==tipo, 'property_type'] = 'Outros'\n",
        "\n",
        "print(base_airbnb['property_type'].value_counts())\n",
        "plt.figure(figsize=(15, 5))\n",
        "sns.set_theme(style='whitegrid')\n",
        "gráfico = sns.countplot(x=base_airbnb['property_type'])\n",
        "gráfico.tick_params(axis='x', rotation=90)"
      ],
      "metadata": {
        "id": "nevNOrnI3cNA"
      },
      "execution_count": null,
      "outputs": []
    },
    {
      "cell_type": "markdown",
      "source": [
        "room_type"
      ],
      "metadata": {
        "id": "jKmqeN223iyq"
      }
    },
    {
      "cell_type": "code",
      "source": [
        "print(base_airbnb['room_type'].value_counts())\n",
        "plt.figure(figsize=(15, 5))\n",
        "sns.set_theme(style='whitegrid')\n",
        "gráfico = sns.countplot(x=base_airbnb['room_type'])\n",
        "gráfico.tick_params(axis='x', rotation=90)"
      ],
      "metadata": {
        "id": "CCe3bUXD30BT"
      },
      "execution_count": null,
      "outputs": []
    },
    {
      "cell_type": "markdown",
      "source": [
        "bed_type"
      ],
      "metadata": {
        "id": "lfNnCX3s35fj"
      }
    },
    {
      "cell_type": "code",
      "source": [
        "print(base_airbnb['bed_type'].value_counts())\n",
        "plt.figure(figsize=(15, 5))\n",
        "sns.set_theme(style='whitegrid')\n",
        "gráfico = sns.countplot(x=base_airbnb['bed_type'])\n",
        "gráfico.tick_params(axis='x', rotation=90)\n",
        "\n",
        "# agrupando categorias de bed_type\n",
        "tabela_bad = base_airbnb['bed_type'].value_counts()\n",
        "colunas_agrupar = []\n",
        "\n",
        "for tipo in tabela_bad.index:\n",
        "    if tabela_bad[tipo] < 10000:\n",
        "        colunas_agrupar.append(tipo)\n",
        "print(colunas_agrupar)\n",
        "\n",
        "for tipo in colunas_agrupar:\n",
        "    base_airbnb.loc[base_airbnb['bed_type']==tipo, 'bed_type'] = 'Outros'\n",
        "\n",
        "print(base_airbnb['bed_type'].value_counts())\n",
        "plt.figure(figsize=(15, 5))\n",
        "sns.set_theme(style='whitegrid')\n",
        "gráfico = sns.countplot(x=base_airbnb['bed_type'])\n",
        "gráfico.tick_params(axis='x', rotation=90)"
      ],
      "metadata": {
        "id": "8FCzDNGc37fc"
      },
      "execution_count": null,
      "outputs": []
    },
    {
      "cell_type": "markdown",
      "source": [
        "cancellation_policy"
      ],
      "metadata": {
        "id": "jhhpFppm4Dao"
      }
    },
    {
      "cell_type": "code",
      "source": [
        "print(base_airbnb['cancellation_policy'].value_counts())\n",
        "plt.figure(figsize=(15, 5))\n",
        "sns.set_theme(style='whitegrid')\n",
        "gráfico = sns.countplot(x=base_airbnb['cancellation_policy'])\n",
        "gráfico.tick_params(axis='x', rotation=90)\n",
        "\n",
        "# agrupando categorias de cancellation_pollicy\n",
        "tabela_cancellation = base_airbnb['cancellation_policy'].value_counts()\n",
        "colunas_agrupar = []\n",
        "\n",
        "for tipo in tabela_cancellation.index:\n",
        "    if tabela_cancellation[tipo] < 17000:\n",
        "        colunas_agrupar.append(tipo)\n",
        "print(colunas_agrupar)\n",
        "\n",
        "for tipo in colunas_agrupar:\n",
        "    base_airbnb.loc[base_airbnb['cancellation_policy']==tipo, 'cancellation_policy'] = 'strict'\n",
        "\n",
        "print(base_airbnb['cancellation_policy'].value_counts())\n",
        "plt.figure(figsize=(15, 5))\n",
        "sns.set_theme(style='whitegrid')\n",
        "gráfico = sns.countplot(x=base_airbnb['cancellation_policy'])\n",
        "gráfico.tick_params(axis='x', rotation=90)"
      ],
      "metadata": {
        "id": "W8sVVk-h4EYu"
      },
      "execution_count": null,
      "outputs": []
    },
    {
      "cell_type": "markdown",
      "source": [
        "Visualização do mapa das Propriedades"
      ],
      "metadata": {
        "id": "TKPuRK4Q4Omz"
      }
    },
    {
      "cell_type": "code",
      "source": [
        "amostra = base_airbnb.sample(n=50000)\n",
        "centro_mapa = {'lat':amostra.latitude.mean(), 'lon':amostra.longitude.mean()}\n",
        "mapa = px.density_mapbox(amostra, lat='latitude', lon='longitude',z='price', radius=2.5,\n",
        "                        center=centro_mapa, zoom=10,\n",
        "                        mapbox_style='stamen-terrain')\n",
        "mapa.show()"
      ],
      "metadata": {
        "id": "KIl725MY4Phv"
      },
      "execution_count": null,
      "outputs": []
    },
    {
      "cell_type": "markdown",
      "source": [
        "Encoding"
      ],
      "metadata": {
        "id": "O5XIebhs4WX3"
      }
    },
    {
      "cell_type": "code",
      "source": [
        "colunas_tf = ['host_is_superhost', 'instant_bookable']\n",
        "base_airbnb_codig = base_airbnb.copy()\n",
        "\n",
        "for coluna in colunas_tf:\n",
        "    base_airbnb_codig.loc[base_airbnb_codig[coluna]=='t', coluna] = 1\n",
        "    base_airbnb_codig.loc[base_airbnb_codig[coluna]=='f', coluna] = 0\n",
        "print(base_airbnb_codig.iloc[0])"
      ],
      "metadata": {
        "id": "Yx3diUJH4XY1"
      },
      "execution_count": null,
      "outputs": []
    },
    {
      "cell_type": "code",
      "source": [
        "colunas_categorias = ['property_type', 'room_type', 'bed_type', 'cancellation_policy']\n",
        "base_airbnb_codig = pd.get_dummies(data=base_airbnb_codig, columns=colunas_categorias)\n",
        "display(base_airbnb_codig.head())"
      ],
      "metadata": {
        "id": "dNxx9Sdm4fGd"
      },
      "execution_count": null,
      "outputs": []
    },
    {
      "cell_type": "markdown",
      "source": [
        "Modelo de Previsão"
      ],
      "metadata": {
        "id": "r8UW7crz4k-X"
      }
    },
    {
      "cell_type": "code",
      "source": [
        "def avaliar_modelo(nome_modelo, y_teste, previsao):\n",
        "    r2 = r2_score(y_teste, previsao)\n",
        "    RSME = np.sqrt(mean_squared_error(y_teste, previsao))\n",
        "    return f'Modelo {nome_modelo}:\\nR²:{r2:.2%}\\nRSME:{RSME:.2f}'"
      ],
      "metadata": {
        "id": "EyHVTkzB4mA8"
      },
      "execution_count": null,
      "outputs": []
    },
    {
      "cell_type": "code",
      "source": [
        "modelo_rf = RandomForestRegressor()\n",
        "modelo_lr = LinearRegression()\n",
        "\n",
        "\n",
        "modelos = {'RandomForest': modelo_rf,\n",
        "          'LinearRegression': modelo_rf,\n",
        "          }\n",
        "\n",
        "y = base_airbnb_codig['price']\n",
        "X = base_airbnb_codig.drop('price', axis=1)"
      ],
      "metadata": {
        "id": "HbxccMDR4p3H"
      },
      "execution_count": null,
      "outputs": []
    },
    {
      "cell_type": "code",
      "source": [
        "X_train, X_test, y_train, y_test = train_test_split(X, y, random_state=10)\n",
        "\n",
        "for nome_modelo, modelo in modelos.items():\n",
        "    #treinar\n",
        "    modelo.fit(X_train, y_train)\n",
        "    #testar\n",
        "    previsao = modelo.predict(X_test)\n",
        "    print(avaliar_modelo(nome_modelo, y_test, previsao))"
      ],
      "metadata": {
        "id": "U_OmJv5Y4vVk"
      },
      "execution_count": null,
      "outputs": []
    },
    {
      "cell_type": "markdown",
      "source": [
        "Análise do Melhor Modelo"
      ],
      "metadata": {
        "id": "uCZFNPjK41Xf"
      }
    },
    {
      "cell_type": "code",
      "source": [
        "for nome_modelo, modelo in modelos.items():\n",
        "    #testar\n",
        "    previsao = modelo.predict(X_test)\n",
        "    print(avaliar_modelo(nome_modelo, y_test, previsao))"
      ],
      "metadata": {
        "id": "mJXxreQp42QR"
      },
      "execution_count": null,
      "outputs": []
    },
    {
      "cell_type": "markdown",
      "source": [
        "Ajustes e Melhorias no Melhor Modelo"
      ],
      "metadata": {
        "id": "f2N5o0Zy5LoZ"
      }
    },
    {
      "cell_type": "code",
      "source": [
        "#print(modelo_rf.feature_importances_)\n",
        "#print(X_train.columns)\n",
        "importancia_features = pd.DataFrame(modelo_rf.feature_importances_, X_train.columns)\n",
        "importancia_features = importancia_features.sort_values(by=0, ascending=False)\n",
        "display(importancia_features)\n",
        "plt.figure(figsize=(15, 5))\n",
        "ax = sns.barplot(x=importancia_features.index, y=importancia_features[0])\n",
        "ax.tick_params(axis='x', rotation=90)"
      ],
      "metadata": {
        "id": "34LHA1iF5PNr"
      },
      "execution_count": null,
      "outputs": []
    },
    {
      "cell_type": "code",
      "source": [
        "print(base_airbnb_codig.columns)"
      ],
      "metadata": {
        "id": "XS6zXyoP5W7V"
      },
      "execution_count": null,
      "outputs": []
    },
    {
      "cell_type": "code",
      "source": [
        "X['price'] = y\n",
        "X.to_csv('dados.csv')"
      ],
      "metadata": {
        "id": "0xTU2VYh5aVt"
      },
      "execution_count": null,
      "outputs": []
    },
    {
      "cell_type": "code",
      "source": [
        "import joblib\n",
        "joblib.dump(modelo_rf, 'modelo.joblib')"
      ],
      "metadata": {
        "id": "2uzIpnhS5d2O"
      },
      "execution_count": null,
      "outputs": []
    }
  ]
}